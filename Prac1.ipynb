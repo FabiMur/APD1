{
 "cells": [
  {
   "cell_type": "markdown",
   "id": "7c12279d-817f-41e4-9592-3d1cf9cea777",
   "metadata": {},
   "source": [
    "# APD Práctica 1: Ingeniería Algorítmica y Ordenación"
   ]
  },
  {
   "cell_type": "markdown",
   "id": "469ba0a1-54e4-4acd-86ff-455b150e0899",
   "metadata": {},
   "source": [
    "#### Imports"
   ]
  },
  {
   "cell_type": "code",
   "execution_count": 19,
   "id": "665e2e7c-2445-4ebd-8366-5de264151cb2",
   "metadata": {},
   "outputs": [],
   "source": [
    "import math\n",
    "import random\n",
    "import time\n",
    "import matplotlib.pyplot as plt\n",
    "import numpy as np"
   ]
  },
  {
   "cell_type": "code",
   "execution_count": 10,
   "id": "023c0365-5b3e-4643-adc1-226f1719b844",
   "metadata": {},
   "outputs": [],
   "source": [
    "random.seed(42) # For reproducibility purposes do not change this"
   ]
  },
  {
   "cell_type": "markdown",
   "id": "3982ab5a-12cc-419c-8da5-0ecb82a8377b",
   "metadata": {},
   "source": [
    "## Implementations"
   ]
  },
  {
   "cell_type": "markdown",
   "id": "220a76ca-f06d-4922-8965-d9df835af9e5",
   "metadata": {
    "jp-MarkdownHeadingCollapsed": true
   },
   "source": [
    "### Quick Sort"
   ]
  },
  {
   "cell_type": "code",
   "execution_count": 11,
   "id": "5892a019-7131-4e6e-aa7b-57a6845b1a15",
   "metadata": {},
   "outputs": [],
   "source": [
    "def quick_sort(arr):\n",
    "    if len(arr) <= 1:\n",
    "        return arr\n",
    "    else:\n",
    "        pivot = arr[len(arr) // 2]  # Choose a pivot\n",
    "        left = [x for x in arr if x < pivot]  # Elements smaller than the pivot\n",
    "        middle = [x for x in arr if x == pivot]  # Elements equal to the pivot\n",
    "        right = [x for x in arr if x > pivot]  # Elements greater than the pivot\n",
    "        return quick_sort(left) + middle + quick_sort(right)"
   ]
  },
  {
   "cell_type": "markdown",
   "id": "0f8b7073-8275-40a7-8bfe-4c3d2d3536c2",
   "metadata": {
    "jp-MarkdownHeadingCollapsed": true
   },
   "source": [
    "### Merge Sort"
   ]
  },
  {
   "cell_type": "code",
   "execution_count": 13,
   "id": "1ef97b28-41c1-43bf-8375-3558d5ba6b6b",
   "metadata": {},
   "outputs": [],
   "source": [
    "def merge_sort(arr):\n",
    "    # Base Case: if the array has 0 or 1 elements it's ordered\n",
    "    if len(arr) <= 1:\n",
    "        return arr\n",
    "\n",
    "    # Find the middle of the array\n",
    "    mid = len(arr) // 2\n",
    "\n",
    "    # Divithe the array in two halves\n",
    "    left_half = merge_sort(arr[:mid])\n",
    "    right_half = merge_sort(arr[mid:])\n",
    "\n",
    "    # Merge the two ordered halves\n",
    "    return merge(left_half, right_half)\n",
    "\n",
    "def merge(left, right):\n",
    "    result = []\n",
    "    i = j = 0\n",
    "\n",
    "    # Compare the elements of both halves and fuse them in a single array\n",
    "    while i < len(left) and j < len(right):\n",
    "        if left[i] < right[j]:\n",
    "            result.append(left[i])\n",
    "            i += 1\n",
    "        else:\n",
    "            result.append(right[j])\n",
    "            j += 1\n",
    "\n",
    "    # Add the remaining elements of left, if any\n",
    "    result.extend(left[i:])\n",
    "    \n",
    "    # Add the remaining elements of right, if any\n",
    "    result.extend(right[j:])\n",
    "\n",
    "    return result\n"
   ]
  },
  {
   "cell_type": "markdown",
   "id": "b9352eec-edce-4593-b51b-c0c60ae557b2",
   "metadata": {},
   "source": [
    "### Bucket Sort"
   ]
  },
  {
   "cell_type": "code",
   "execution_count": 24,
   "id": "e49005c5-4ea1-488f-ac12-3eb073f835d1",
   "metadata": {},
   "outputs": [],
   "source": [
    "def bucket_sort_quick(arr):\n",
    "    if len(arr) == 0:\n",
    "        return arr\n",
    "\n",
    "    # Create as many empty buckets as the square root of the numnber of elements\n",
    "    bucket_count = math.ceil(math.sqrt(len(arr)))\n",
    "    max_value = max(arr)\n",
    "    buckets = [[] for _ in range(bucket_count)]\n",
    "\n",
    "    # Place the elements in the corresponding buckets\n",
    "    for num in arr:\n",
    "        index = math.floor(num * bucket_count / (max_value + 1))\n",
    "        buckets[index].append(num)\n",
    "\n",
    "    # Order the buckets\n",
    "    for i in range(len(buckets)):\n",
    "        buckets[i] = quick_sort(buckets[i])\n",
    "\n",
    "    # Combine the buckets\n",
    "    return [num for bucket in buckets for num in bucket]"
   ]
  },
  {
   "cell_type": "code",
   "execution_count": 17,
   "id": "e3c9bfee-b737-447e-942f-b5cfbc7da33b",
   "metadata": {},
   "outputs": [],
   "source": [
    "def bucket_sort_merge(arr):\n",
    "    if len(arr) == 0:\n",
    "        return arr\n",
    "\n",
    "    # Create as many empty buckets as the square root of the numnber of elements\n",
    "    bucket_count = math.ceil(math.sqrt(len(arr)))\n",
    "    max_value = max(arr)\n",
    "    buckets = [[] for _ in range(bucket_count)]\n",
    "\n",
    "    # Place the elements in the corresponding buckets\n",
    "    for num in arr:\n",
    "        index = math.floor(num * bucket_count / (max_value + 1))\n",
    "        buckets[index].append(num)\n",
    "\n",
    "    # Order the buckets\n",
    "    for i in range(len(buckets)):\n",
    "        buckets[i] = quick_sort(buckets[i])\n",
    "\n",
    "    # Combine the buckets\n",
    "    return [num for bucket in buckets for num in bucket]"
   ]
  },
  {
   "cell_type": "markdown",
   "id": "3563d929-f782-4e68-a921-878f3d0349f3",
   "metadata": {},
   "source": [
    "### Auxiliary functions"
   ]
  },
  {
   "cell_type": "code",
   "execution_count": 32,
   "id": "b1bba56f-c2e7-4e35-a068-8cf718d91a5b",
   "metadata": {},
   "outputs": [],
   "source": [
    "# ARRAY CREATION\n",
    "\n",
    "# Random array\n",
    "def generate_random_array(size, upper_range):\n",
    "    return [random.randint(0, upper_range) for _ in range(size)]\n",
    "\n",
    "# Ordered array\n",
    "def generate_ordered_array(size, upper_range):\n",
    "    return list(range(0, upper_range, upper_range // size))\n",
    "\n",
    "# Reversed array\n",
    "def generate_reversed_array(size, upper_range):\n",
    "    return list(range(upper_range, 0, -upper_range // size))"
   ]
  },
  {
   "cell_type": "markdown",
   "id": "9aae2b5f-e391-4b04-b45f-677092d973e4",
   "metadata": {},
   "source": [
    "## Benchmarks"
   ]
  },
  {
   "cell_type": "code",
   "execution_count": null,
   "id": "ce8b9f01-a396-4b3c-a695-aff91450b5fe",
   "metadata": {},
   "outputs": [],
   "source": []
  }
 ],
 "metadata": {
  "kernelspec": {
   "display_name": "Python 3 (ipykernel)",
   "language": "python",
   "name": "python3"
  },
  "language_info": {
   "codemirror_mode": {
    "name": "ipython",
    "version": 3
   },
   "file_extension": ".py",
   "mimetype": "text/x-python",
   "name": "python",
   "nbconvert_exporter": "python",
   "pygments_lexer": "ipython3",
   "version": "3.12.5"
  }
 },
 "nbformat": 4,
 "nbformat_minor": 5
}
